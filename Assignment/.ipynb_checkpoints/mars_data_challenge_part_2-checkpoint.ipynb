{
 "cells": [
  {
   "cell_type": "code",
   "execution_count": 15,
   "id": "a04f2ad6",
   "metadata": {},
   "outputs": [],
   "source": [
    "# Import Splinter and BeautifulSoup\n",
    "from splinter import Browser\n",
    "from bs4 import BeautifulSoup as soup\n",
    "from webdriver_manager.chrome import ChromeDriverManager"
   ]
  },
  {
   "cell_type": "code",
   "execution_count": null,
   "id": "5e58ec94",
   "metadata": {},
   "outputs": [],
   "source": [
    "executable_path = {'executable_path': ChromeDriverManager().install()}\n",
    "browser = Browser('chrome', **executable_path, headless=False)"
   ]
  },
  {
   "cell_type": "code",
   "execution_count": null,
   "id": "a1ccc37d",
   "metadata": {},
   "outputs": [],
   "source": [
    "# Visit the Mars NASA news site\n",
    "url = 'https://data-class-mars-challenge.s3.amazonaws.com/Mars/index.html'\n",
    "browser.visit(url)"
   ]
  },
  {
   "cell_type": "code",
   "execution_count": null,
   "id": "5e8231e9",
   "metadata": {},
   "outputs": [],
   "source": [
    "html = browser.html\n",
    "table_soup = soup(html, 'html.parser')"
   ]
  },
  {
   "cell_type": "code",
   "execution_count": null,
   "id": "e61696ec",
   "metadata": {},
   "outputs": [],
   "source": [
    "table = table_soup.find('table', class_='table')"
   ]
  },
  {
   "cell_type": "code",
   "execution_count": null,
   "id": "484e9e60",
   "metadata": {},
   "outputs": [],
   "source": [
    "print(table.text)"
   ]
  },
  {
   "cell_type": "code",
   "execution_count": null,
   "id": "0e0172d2",
   "metadata": {},
   "outputs": [],
   "source": []
  },
  {
   "cell_type": "code",
   "execution_count": null,
   "id": "fa2f8bdf",
   "metadata": {},
   "outputs": [],
   "source": [
    "import pandas as pd "
   ]
  },
  {
   "cell_type": "code",
   "execution_count": null,
   "id": "97521741",
   "metadata": {},
   "outputs": [],
   "source": [
    "headers = []\n",
    "for i in table.find_all('th'):\n",
    "    title = i.text\n",
    "    headers.append(title)\n",
    "\n",
    "df = pd.DataFrame(columns = headers)\n",
    "\n",
    "for j in table.find_all('tr')[1:]:\n",
    "        row_data = j.find_all('td')\n",
    "        row = [tr.text for tr in row_data]\n",
    "        length = len(df)\n",
    "        df.loc[length] = row"
   ]
  },
  {
   "cell_type": "code",
   "execution_count": null,
   "id": "cd8c32da",
   "metadata": {},
   "outputs": [],
   "source": [
    "headers"
   ]
  },
  {
   "cell_type": "code",
   "execution_count": null,
   "id": "3d972c69",
   "metadata": {},
   "outputs": [],
   "source": [
    "df"
   ]
  },
  {
   "cell_type": "code",
   "execution_count": null,
   "id": "5cded7f6",
   "metadata": {},
   "outputs": [],
   "source": [
    "df.info()"
   ]
  },
  {
   "cell_type": "code",
   "execution_count": 33,
   "id": "5af7942e",
   "metadata": {},
   "outputs": [],
   "source": [
    "df.id = df.id.astype(int)"
   ]
  },
  {
   "cell_type": "code",
   "execution_count": 34,
   "id": "eb6b13e8",
   "metadata": {},
   "outputs": [],
   "source": [
    "df.pressure = df.pressure.astype(float)"
   ]
  },
  {
   "cell_type": "code",
   "execution_count": 35,
   "id": "5f97ff04",
   "metadata": {},
   "outputs": [],
   "source": [
    "df.min_temp = df.min_temp.astype(float)"
   ]
  },
  {
   "cell_type": "code",
   "execution_count": 74,
   "id": "dfae1101",
   "metadata": {},
   "outputs": [],
   "source": [
    "df.sol = df.sol.astype(int)"
   ]
  },
  {
   "cell_type": "code",
   "execution_count": 36,
   "id": "5159a8bf",
   "metadata": {},
   "outputs": [],
   "source": [
    "df['terrestrial_date'] = pd.to_datetime(df['terrestrial_date'])"
   ]
  },
  {
   "cell_type": "code",
   "execution_count": 37,
   "id": "f060f02b",
   "metadata": {},
   "outputs": [
    {
     "name": "stdout",
     "output_type": "stream",
     "text": [
      "<class 'pandas.core.frame.DataFrame'>\n",
      "Int64Index: 1867 entries, 0 to 1866\n",
      "Data columns (total 7 columns):\n",
      " #   Column            Non-Null Count  Dtype         \n",
      "---  ------            --------------  -----         \n",
      " 0   id                1867 non-null   int64         \n",
      " 1   terrestrial_date  1867 non-null   datetime64[ns]\n",
      " 2   sol               1867 non-null   object        \n",
      " 3   ls                1867 non-null   object        \n",
      " 4   month             1867 non-null   object        \n",
      " 5   min_temp          1867 non-null   float64       \n",
      " 6   pressure          1867 non-null   float64       \n",
      "dtypes: datetime64[ns](1), float64(2), int64(1), object(3)\n",
      "memory usage: 116.7+ KB\n"
     ]
    }
   ],
   "source": [
    "df.info()"
   ]
  },
  {
   "cell_type": "code",
   "execution_count": 38,
   "id": "cb2fd198",
   "metadata": {},
   "outputs": [
    {
     "data": {
      "text/html": [
       "<div>\n",
       "<style scoped>\n",
       "    .dataframe tbody tr th:only-of-type {\n",
       "        vertical-align: middle;\n",
       "    }\n",
       "\n",
       "    .dataframe tbody tr th {\n",
       "        vertical-align: top;\n",
       "    }\n",
       "\n",
       "    .dataframe thead th {\n",
       "        text-align: right;\n",
       "    }\n",
       "</style>\n",
       "<table border=\"1\" class=\"dataframe\">\n",
       "  <thead>\n",
       "    <tr style=\"text-align: right;\">\n",
       "      <th></th>\n",
       "      <th>id</th>\n",
       "      <th>min_temp</th>\n",
       "      <th>pressure</th>\n",
       "    </tr>\n",
       "  </thead>\n",
       "  <tbody>\n",
       "    <tr>\n",
       "      <th>count</th>\n",
       "      <td>1867.000000</td>\n",
       "      <td>1867.000000</td>\n",
       "      <td>1867.000000</td>\n",
       "    </tr>\n",
       "    <tr>\n",
       "      <th>mean</th>\n",
       "      <td>955.551152</td>\n",
       "      <td>-76.121050</td>\n",
       "      <td>841.066417</td>\n",
       "    </tr>\n",
       "    <tr>\n",
       "      <th>std</th>\n",
       "      <td>545.048507</td>\n",
       "      <td>5.504098</td>\n",
       "      <td>54.253226</td>\n",
       "    </tr>\n",
       "    <tr>\n",
       "      <th>min</th>\n",
       "      <td>2.000000</td>\n",
       "      <td>-90.000000</td>\n",
       "      <td>727.000000</td>\n",
       "    </tr>\n",
       "    <tr>\n",
       "      <th>25%</th>\n",
       "      <td>489.500000</td>\n",
       "      <td>-80.000000</td>\n",
       "      <td>800.000000</td>\n",
       "    </tr>\n",
       "    <tr>\n",
       "      <th>50%</th>\n",
       "      <td>959.000000</td>\n",
       "      <td>-76.000000</td>\n",
       "      <td>853.000000</td>\n",
       "    </tr>\n",
       "    <tr>\n",
       "      <th>75%</th>\n",
       "      <td>1425.500000</td>\n",
       "      <td>-72.000000</td>\n",
       "      <td>883.000000</td>\n",
       "    </tr>\n",
       "    <tr>\n",
       "      <th>max</th>\n",
       "      <td>1895.000000</td>\n",
       "      <td>-62.000000</td>\n",
       "      <td>925.000000</td>\n",
       "    </tr>\n",
       "  </tbody>\n",
       "</table>\n",
       "</div>"
      ],
      "text/plain": [
       "                id     min_temp     pressure\n",
       "count  1867.000000  1867.000000  1867.000000\n",
       "mean    955.551152   -76.121050   841.066417\n",
       "std     545.048507     5.504098    54.253226\n",
       "min       2.000000   -90.000000   727.000000\n",
       "25%     489.500000   -80.000000   800.000000\n",
       "50%     959.000000   -76.000000   853.000000\n",
       "75%    1425.500000   -72.000000   883.000000\n",
       "max    1895.000000   -62.000000   925.000000"
      ]
     },
     "execution_count": 38,
     "metadata": {},
     "output_type": "execute_result"
    }
   ],
   "source": [
    "df.describe()"
   ]
  },
  {
   "cell_type": "code",
   "execution_count": null,
   "id": "b1420775",
   "metadata": {},
   "outputs": [],
   "source": [
    "df."
   ]
  },
  {
   "cell_type": "code",
   "execution_count": 75,
   "id": "50e513f1",
   "metadata": {},
   "outputs": [
    {
     "data": {
      "text/plain": [
       "1977"
      ]
     },
     "execution_count": 75,
     "metadata": {},
     "output_type": "execute_result"
    }
   ],
   "source": [
    "max_martian_days = df['sol'].max()\n",
    "max_martian_days"
   ]
  },
  {
   "cell_type": "code",
   "execution_count": 134,
   "id": "52f6d63d",
   "metadata": {},
   "outputs": [
    {
     "data": {
      "text/plain": [
       "month\n",
       "1    -77.160920\n",
       "10   -71.982143\n",
       "11   -71.985507\n",
       "12   -74.451807\n",
       "2    -79.932584\n",
       "3    -83.307292\n",
       "4    -82.747423\n",
       "5    -79.308725\n",
       "6    -75.299320\n",
       "7    -72.281690\n",
       "8    -68.382979\n",
       "9    -69.171642\n",
       "Name: min_temp, dtype: float64"
      ]
     },
     "execution_count": 134,
     "metadata": {},
     "output_type": "execute_result"
    }
   ],
   "source": [
    "min_avg_temp= df.groupby(['month'])['min_temp'].mean()\n",
    "min_avg_temp\n"
   ]
  },
  {
   "cell_type": "code",
   "execution_count": 2,
   "id": "7e09e44a",
   "metadata": {},
   "outputs": [],
   "source": [
    "\n",
    "import matplotlib.pyplot as plt\n",
    "\n",
    "import numpy as np"
   ]
  },
  {
   "cell_type": "code",
   "execution_count": null,
   "id": "34bba868",
   "metadata": {},
   "outputs": [],
   "source": []
  },
  {
   "cell_type": "code",
   "execution_count": null,
   "id": "80077189",
   "metadata": {},
   "outputs": [],
   "source": []
  },
  {
   "cell_type": "code",
   "execution_count": null,
   "id": "721a3dd4",
   "metadata": {},
   "outputs": [],
   "source": []
  },
  {
   "cell_type": "code",
   "execution_count": 3,
   "id": "9e99ad02",
   "metadata": {},
   "outputs": [
    {
     "ename": "NameError",
     "evalue": "name 'min_avg_temp' is not defined",
     "output_type": "error",
     "traceback": [
      "\u001b[0;31m---------------------------------------------------------------------------\u001b[0m",
      "\u001b[0;31mNameError\u001b[0m                                 Traceback (most recent call last)",
      "Input \u001b[0;32mIn [3]\u001b[0m, in \u001b[0;36m<cell line: 6>\u001b[0;34m()\u001b[0m\n\u001b[1;32m      1\u001b[0m \u001b[38;5;66;03m#min_avg_temp.plot.bar(x=\"Minimum_temp\", y=\"Month\", kind ='bar')\u001b[39;00m\n\u001b[1;32m      2\u001b[0m \u001b[38;5;66;03m#plt.show()\u001b[39;00m\n\u001b[1;32m      3\u001b[0m \n\u001b[1;32m      4\u001b[0m \u001b[38;5;66;03m# Set x-axis and tick locations.\u001b[39;00m\n\u001b[1;32m      5\u001b[0m fig \u001b[38;5;241m=\u001b[39m plt\u001b[38;5;241m.\u001b[39mfigure()\n\u001b[0;32m----> 6\u001b[0m y_axis \u001b[38;5;241m=\u001b[39m np\u001b[38;5;241m.\u001b[39marange(\u001b[38;5;28mlen\u001b[39m(\u001b[43mmin_avg_temp\u001b[49m))\n\u001b[1;32m      7\u001b[0m tick_locations \u001b[38;5;241m=\u001b[39m [value \u001b[38;5;28;01mfor\u001b[39;00m value \u001b[38;5;129;01min\u001b[39;00m x_axis]\n\u001b[1;32m      8\u001b[0m plt\u001b[38;5;241m.\u001b[39mxticks(rotation\u001b[38;5;241m=\u001b[39m\u001b[38;5;241m90\u001b[39m)\n",
      "\u001b[0;31mNameError\u001b[0m: name 'min_avg_temp' is not defined"
     ]
    },
    {
     "data": {
      "text/plain": [
       "<Figure size 432x288 with 0 Axes>"
      ]
     },
     "metadata": {},
     "output_type": "display_data"
    }
   ],
   "source": [
    "#min_avg_temp.plot.bar(x=\"Minimum_temp\", y=\"Month\", kind ='bar')\n",
    "#plt.show()\n",
    "\n",
    "# Set x-axis and tick locations.\n",
    "fig = plt.figure()\n",
    "y_axis = np.arange(len(min_avg_temp))\n",
    "tick_locations = [value for value in x_axis]\n",
    "plt.xticks(rotation=90)\n",
    "# Plot the data.\n",
    "min_avg_temp.plot.bar(x=\"Month\", y=\"Minimum Temp\")\n",
    "#plt.xticks(tick_locations, min_avg_temp[\"Month\"])\n",
    "plt.xlim(0, 12)\n",
    "plt.ylim(-65, -85)\n",
    "plt.show()"
   ]
  },
  {
   "cell_type": "code",
   "execution_count": 138,
   "id": "7c9919e5",
   "metadata": {},
   "outputs": [
    {
     "data": {
      "text/plain": [
       "month\n",
       "1     862.488506\n",
       "10    887.312500\n",
       "11    857.014493\n",
       "12    842.156627\n",
       "2     889.455056\n",
       "3     877.322917\n",
       "4     806.329897\n",
       "5     748.557047\n",
       "6     745.054422\n",
       "7     795.105634\n",
       "8     873.829787\n",
       "9     913.305970\n",
       "Name: pressure, dtype: float64"
      ]
     },
     "execution_count": 138,
     "metadata": {},
     "output_type": "execute_result"
    }
   ],
   "source": [
    "min_avg_pressure= df.groupby(['month'])['pressure'].mean()\n",
    "min_avg_pressure\n",
    "\n",
    "min_avg_pressure.columns = ['Month', 'Pressure']\n",
    "min_avg_pressure"
   ]
  },
  {
   "cell_type": "code",
   "execution_count": null,
   "id": "e658a5a7",
   "metadata": {},
   "outputs": [],
   "source": []
  },
  {
   "cell_type": "markdown",
   "id": "9e8c2c6c",
   "metadata": {},
   "source": [
    "\n",
    "\n",
    "fig = plt.figure()\n",
    "x_axis = np.arange(len(min_avg_temp))\n",
    "tick_locations = [value for value in x_axis]\n",
    "\n",
    "min_avg_pressure.plot.barh(x=\"Month\", y=\"Minimum pressure\")\n",
    "#plt.xticks(tick_locations, min_avg_pressure[\"Month\"])\n",
    "plt.show()"
   ]
  },
  {
   "cell_type": "code",
   "execution_count": 1,
   "id": "5d0dab69",
   "metadata": {},
   "outputs": [
    {
     "ename": "NameError",
     "evalue": "name 'plt' is not defined",
     "output_type": "error",
     "traceback": [
      "\u001b[0;31m---------------------------------------------------------------------------\u001b[0m",
      "\u001b[0;31mNameError\u001b[0m                                 Traceback (most recent call last)",
      "Input \u001b[0;32mIn [1]\u001b[0m, in \u001b[0;36m<cell line: 5>\u001b[0;34m()\u001b[0m\n\u001b[1;32m      1\u001b[0m \u001b[38;5;66;03m#min_avg_temp.plot.bar(x=\"Minimum_temp\", y=\"Month\", kind ='bar')\u001b[39;00m\n\u001b[1;32m      2\u001b[0m \u001b[38;5;66;03m#plt.show()\u001b[39;00m\n\u001b[1;32m      3\u001b[0m \n\u001b[1;32m      4\u001b[0m \u001b[38;5;66;03m# Set x-axis and tick locations.\u001b[39;00m\n\u001b[0;32m----> 5\u001b[0m fig \u001b[38;5;241m=\u001b[39m \u001b[43mplt\u001b[49m\u001b[38;5;241m.\u001b[39mfigure()\n\u001b[1;32m      6\u001b[0m y_axis \u001b[38;5;241m=\u001b[39m np\u001b[38;5;241m.\u001b[39marange(\u001b[38;5;28mlen\u001b[39m(min_avg_pressure))\n\u001b[1;32m      7\u001b[0m \u001b[38;5;66;03m#tick_locations = [value for value in y_axis]\u001b[39;00m\n\u001b[1;32m      8\u001b[0m \u001b[38;5;66;03m# Plot the data.\u001b[39;00m\n",
      "\u001b[0;31mNameError\u001b[0m: name 'plt' is not defined"
     ]
    }
   ],
   "source": [
    "#min_avg_temp.plot.bar(x=\"Minimum_temp\", y=\"Month\", kind ='bar')\n",
    "#plt.show()\n",
    "\n",
    "# Set x-axis and tick locations.\n",
    "fig = plt.figure()\n",
    "y_axis = np.arange(len(min_avg_pressure))\n",
    "#tick_locations = [value for value in y_axis]\n",
    "# Plot the data.\n",
    "min_avg_pressure.plot.bar(x=\"Month\", y=\"Minimum pressure\")\n",
    "plt.xlabel(\"Month\")\n",
    "plt.ylabel(\"Average Pressure \")\n",
    "plt.xlim(0, 12)\n",
    "plt.ylim(740, 940)\n",
    "plt.show()\n",
    "plt.savefig('Average_pressure_graph.png')"
   ]
  },
  {
   "cell_type": "code",
   "execution_count": 115,
   "id": "47b8f588",
   "metadata": {},
   "outputs": [
    {
     "data": {
      "text/plain": [
       "sol\n",
       "10     -75.0\n",
       "11     -76.0\n",
       "12     -76.0\n",
       "13     -74.0\n",
       "14     -74.0\n",
       "        ... \n",
       "1973   -78.0\n",
       "1974   -77.0\n",
       "1975   -76.0\n",
       "1976   -77.0\n",
       "1977   -77.0\n",
       "Name: min_temp, Length: 1867, dtype: float64"
      ]
     },
     "execution_count": 115,
     "metadata": {},
     "output_type": "execute_result"
    }
   ],
   "source": [
    "min_daily_temp= df.groupby(['sol'])['min_temp'].mean()\n",
    "min_daily_temp"
   ]
  },
  {
   "cell_type": "code",
   "execution_count": 152,
   "id": "1419cc45",
   "metadata": {},
   "outputs": [
    {
     "data": {
      "image/png": "[encoded data removed]",
      "text/plain": [
       "<Figure size 432x288 with 1 Axes>"
      ]
     },
     "metadata": {
      "needs_background": "light"
     },
     "output_type": "display_data"
    }
   ],
   "source": [
    "min_daily_temp.plot(x=\"sol\", y=\"min_temp\")\n",
    "\n",
    "plt.xlabel(\"Martain Days\")\n",
    "plt.ylabel(\"Average Minimum Temperature\")\n",
    "plt.show()"
   ]
  },
  {
   "cell_type": "code",
   "execution_count": 119,
   "id": "664d1aee",
   "metadata": {},
   "outputs": [],
   "source": [
    "min_daily_temp.to_csv('daily_temp.csv')"
   ]
  },
  {
   "cell_type": "code",
   "execution_count": null,
   "id": "e62a7ad5",
   "metadata": {},
   "outputs": [],
   "source": []
  }
 ],
 "metadata": {
  "kernelspec": {
   "display_name": "PythonData",
   "language": "python",
   "name": "pythondata"
  },
  "language_info": {
   "codemirror_mode": {
    "name": "ipython",
    "version": 3
   },
   "file_extension": ".py",
   "mimetype": "text/x-python",
   "name": "python",
   "nbconvert_exporter": "python",
   "pygments_lexer": "ipython3",
   "version": "3.9.12"
  }
 },
 "nbformat": 4,
 "nbformat_minor": 5
}
